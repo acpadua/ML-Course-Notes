{
  "cells": [
    {
      "cell_type": "markdown",
      "metadata": {
        "id": "FcNJIoMwLNPf"
      },
      "source": [
        "## Quiz #0502"
      ]
    },
    {
      "cell_type": "markdown",
      "metadata": {
        "id": "8h2KZd7rLNPk"
      },
      "source": [
        "### \"Human Activity Recognition\" "
      ]
    },
    {
      "cell_type": "markdown",
      "metadata": {
        "id": "WLpU4c_tLNPl"
      },
      "source": [
        "#### Answer the following questions by providing Python code:\n",
        "#### Objectives:\n",
        "- Carry out the EDA.\n",
        "- Carry out the data pre-processing.\n",
        "- Optimize and test a predictive model of your choice."
      ]
    },
    {
      "cell_type": "code",
      "execution_count": 1,
      "metadata": {
        "id": "vIBm0v-eLNPl"
      },
      "outputs": [],
      "source": [
        "import numpy as np\n",
        "import pandas as pd\n",
        "import matplotlib.pyplot as plt\n",
        "import seaborn as sns\n",
        "import os\n",
        "import warnings\n",
        "from sklearn.model_selection import train_test_split, GridSearchCV\n",
        "from sklearn.neighbors import KNeighborsClassifier\n",
        "from sklearn.tree import DecisionTreeClassifier\n",
        "from sklearn.ensemble import RandomForestClassifier,AdaBoostClassifier, GradientBoostingClassifier\n",
        "from xgboost import XGBClassifier\n",
        "from sklearn import metrics, preprocessing\n",
        "warnings.filterwarnings(action='ignore')                  # Turn off the warnings.\n",
        "%matplotlib inline"
      ]
    },
    {
      "cell_type": "markdown",
      "metadata": {
        "id": "azAqJbWoLNPo"
      },
      "source": [
        "#### Read in data:\n",
        "The explanation on the dataset can be found [here](https://archive.ics.uci.edu/ml/datasets/human+activity+recognition+using+smartphones)."
      ]
    },
    {
      "cell_type": "code",
      "execution_count": 2,
      "metadata": {
        "colab": {
          "base_uri": "https://localhost:8080/"
        },
        "id": "s4pNj38MLNPo",
        "outputId": "f285c771-3c4e-4856-e062-9d3fe54589d8"
      },
      "outputs": [
        {
          "output_type": "stream",
          "name": "stdout",
          "text": [
            "--2022-10-04 17:59:24--  https://raw.githubusercontent.com/tn-220/SIC-Machine-Learning/main/SIC_ML_Quizzes/SIC_ML_Chapter_06_Quiz/data_human%20activity%20recognition.csv\n",
            "Resolving raw.githubusercontent.com (raw.githubusercontent.com)... 185.199.108.133, 185.199.109.133, 185.199.110.133, ...\n",
            "Connecting to raw.githubusercontent.com (raw.githubusercontent.com)|185.199.108.133|:443... connected.\n",
            "HTTP request sent, awaiting response... 200 OK\n",
            "Length: 12202745 (12M) [text/plain]\n",
            "Saving to: ‘data_human activity recognition.csv’\n",
            "\n",
            "\r          data_huma   0%[                    ]       0  --.-KB/s               \rdata_human activity 100%[===================>]  11.64M  --.-KB/s    in 0.05s   \n",
            "\n",
            "2022-10-04 17:59:24 (223 MB/s) - ‘data_human activity recognition.csv’ saved [12202745/12202745]\n",
            "\n"
          ]
        }
      ],
      "source": [
        "!wget --no-clobber https://raw.githubusercontent.com/tn-220/SIC-Machine-Learning/main/SIC_ML_Quizzes/SIC_ML_Chapter_06_Quiz/data_human%20activity%20recognition.csv"
      ]
    },
    {
      "cell_type": "code",
      "execution_count": 3,
      "metadata": {
        "id": "oz8FT1UhLNPp"
      },
      "outputs": [],
      "source": [
        "df = pd.read_csv('data_human activity recognition.csv', header='infer')"
      ]
    },
    {
      "cell_type": "code",
      "execution_count": 4,
      "metadata": {
        "colab": {
          "base_uri": "https://localhost:8080/"
        },
        "id": "Yoekw8e3LNPp",
        "outputId": "660f11a8-53e5-4439-8189-393f50604c93"
      },
      "outputs": [
        {
          "output_type": "execute_result",
          "data": {
            "text/plain": [
              "(19622, 160)"
            ]
          },
          "metadata": {},
          "execution_count": 4
        }
      ],
      "source": [
        "df.shape"
      ]
    },
    {
      "cell_type": "code",
      "execution_count": 5,
      "metadata": {
        "colab": {
          "base_uri": "https://localhost:8080/"
        },
        "id": "lPd6gfj0LNPq",
        "outputId": "4bde00f7-969d-49ce-a75a-5b94d25cd864"
      },
      "outputs": [
        {
          "output_type": "execute_result",
          "data": {
            "text/plain": [
              "Index(['Unnamed: 0', 'user_name', 'raw_timestamp_part_1',\n",
              "       'raw_timestamp_part_2', 'cvtd_timestamp', 'new_window', 'num_window',\n",
              "       'roll_belt', 'pitch_belt', 'yaw_belt',\n",
              "       ...\n",
              "       'gyros_forearm_x', 'gyros_forearm_y', 'gyros_forearm_z',\n",
              "       'accel_forearm_x', 'accel_forearm_y', 'accel_forearm_z',\n",
              "       'magnet_forearm_x', 'magnet_forearm_y', 'magnet_forearm_z', 'classe'],\n",
              "      dtype='object', length=160)"
            ]
          },
          "metadata": {},
          "execution_count": 5
        }
      ],
      "source": [
        "df.columns"
      ]
    },
    {
      "cell_type": "markdown",
      "metadata": {
        "id": "94nMsPDNLNPq"
      },
      "source": [
        "1). Carry out the EDA. Check for the missing values. HINT: The response variable is 'classe'."
      ]
    },
    {
      "cell_type": "code",
      "execution_count": 15,
      "metadata": {
        "id": "JntzrZSELNPr"
      },
      "outputs": [],
      "source": [
        "df.isnull()\n",
        "nr_elements = df.shape[0]\n",
        "null_elements_in_column = df.isnull().sum()\n",
        "\n",
        "percentage_missing_values = null_elements_in_column / nr_elements\n",
        "columns_more_97_per_cent_missing = percentage_missing_values[percentage_missing_values>0.97].index\n",
        "\n",
        "#percentage_missing_values = df."
      ]
    },
    {
      "cell_type": "markdown",
      "metadata": {
        "id": "vHM4n2DMLNPr"
      },
      "source": [
        "2). Get rid of the columns that have more than 97% missing values."
      ]
    },
    {
      "cell_type": "code",
      "execution_count": 16,
      "metadata": {
        "id": "VUfWcY-RLNPs"
      },
      "outputs": [],
      "source": [
        "df = df.drop(columns=columns_more_97_per_cent_missing)"
      ]
    },
    {
      "cell_type": "code",
      "source": [
        "df.shape"
      ],
      "metadata": {
        "colab": {
          "base_uri": "https://localhost:8080/"
        },
        "id": "0H_wPUfnPxYC",
        "outputId": "d0731ebe-96c2-45fa-ae6b-d8d50e88c2ea"
      },
      "execution_count": 18,
      "outputs": [
        {
          "output_type": "execute_result",
          "data": {
            "text/plain": [
              "(19622, 60)"
            ]
          },
          "metadata": {},
          "execution_count": 18
        }
      ]
    },
    {
      "cell_type": "markdown",
      "metadata": {
        "id": "MCGXIwshLNPs"
      },
      "source": [
        "3). Get rid of the unnecessary columns. HINT: Those columns with \"time\" in the name and those that are obviously unnecessary."
      ]
    },
    {
      "cell_type": "code",
      "execution_count": 21,
      "metadata": {
        "colab": {
          "base_uri": "https://localhost:8080/",
          "height": 38
        },
        "id": "ckNLfixkLNPs",
        "outputId": "6eeb486f-c383-43cd-9048-7c646c60f613"
      },
      "outputs": [
        {
          "output_type": "execute_result",
          "data": {
            "text/plain": [
              "\"\\nheader = df.columns\\ntime_columns = []\\nfor col in header:\\n  if('time' in str(col)):\\n\""
            ],
            "application/vnd.google.colaboratory.intrinsic+json": {
              "type": "string"
            }
          },
          "metadata": {},
          "execution_count": 21
        }
      ],
      "source": [
        "#df.info()\n",
        "\n",
        "columns_to_drop2 = df.columns[df.columns.str.contains(\"time\")]\n",
        "df = df.drop(columns = columns_to_drop2)\n",
        "'''\n",
        "header = df.columns\n",
        "time_columns = []\n",
        "for col in header:\n",
        "  if('time' in str(col)):\n",
        "'''\n"
      ]
    },
    {
      "cell_type": "markdown",
      "metadata": {
        "id": "POysridALNPt"
      },
      "source": [
        "4). Label encode the responde variable. HINT: use preprocessing.LabelEncoder(). "
      ]
    },
    {
      "cell_type": "code",
      "execution_count": null,
      "metadata": {
        "id": "m_ma9I3xLNPt"
      },
      "outputs": [],
      "source": [
        "encoder = preprocessing.Labelencoder()\n",
        "df['classe'] = encoder.transform(df['classe'])"
      ]
    },
    {
      "cell_type": "markdown",
      "metadata": {
        "id": "QGWpr977LNPt"
      },
      "source": [
        "5). Carry out min-max scaling of the exploratory variables. HINT: use preprocessing.MinMaxScaler()."
      ]
    },
    {
      "cell_type": "code",
      "execution_count": null,
      "metadata": {
        "id": "dfH26PiaLNPu"
      },
      "outputs": [],
      "source": [
        "       # <Your code goes in here>"
      ]
    },
    {
      "cell_type": "markdown",
      "metadata": {
        "id": "vMmr3wK4LNPu"
      },
      "source": [
        "6). Choose an algorithm and carry out the predictive analysis.\n",
        "\n",
        "- Optimize the hyperparameter(s)\n",
        "- Calculate the accuracy.\n",
        "- Aim for upper 90% accuracy."
      ]
    },
    {
      "cell_type": "code",
      "execution_count": null,
      "metadata": {
        "id": "rVCYEpdpLNP2"
      },
      "outputs": [],
      "source": [
        "       # <Your code goes in here>"
      ]
    }
  ],
  "metadata": {
    "kernelspec": {
      "display_name": "Python 3",
      "language": "python",
      "name": "python3"
    },
    "language_info": {
      "codemirror_mode": {
        "name": "ipython",
        "version": 3
      },
      "file_extension": ".py",
      "mimetype": "text/x-python",
      "name": "python",
      "nbconvert_exporter": "python",
      "pygments_lexer": "ipython3",
      "version": "3.7.3"
    },
    "colab": {
      "provenance": []
    }
  },
  "nbformat": 4,
  "nbformat_minor": 0
}